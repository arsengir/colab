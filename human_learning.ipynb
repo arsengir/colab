{
  "nbformat": 4,
  "nbformat_minor": 0,
  "metadata": {
    "colab": {
      "provenance": [],
      "authorship_tag": "ABX9TyMDVtKLkwtyobXlS5/azdYh",
      "include_colab_link": true
    },
    "kernelspec": {
      "name": "python3",
      "display_name": "Python 3"
    },
    "language_info": {
      "name": "python"
    }
  },
  "cells": [
    {
      "cell_type": "markdown",
      "metadata": {
        "id": "view-in-github",
        "colab_type": "text"
      },
      "source": [
        "<a href=\"https://colab.research.google.com/github/arsengir/colab/blob/main/human_learning.ipynb\" target=\"_parent\"><img src=\"https://colab.research.google.com/assets/colab-badge.svg\" alt=\"Open In Colab\"/></a>"
      ]
    },
    {
      "cell_type": "markdown",
      "source": [
        "https://www.kaggle.com/datasets/abdelrahmankhalil/100000-uk-used-car-data-set"
      ],
      "metadata": {
        "id": "K4OvqalKZGGR"
      }
    },
    {
      "cell_type": "markdown",
      "source": [
        "https://drive.google.com/file/d/17xk2fS4QevT2NKziTD2puH9w9B8qXpCZ/view?usp=sharing"
      ],
      "metadata": {
        "id": "x7LDnedzZD0S"
      }
    },
    {
      "cell_type": "code",
      "execution_count": null,
      "metadata": {
        "id": "uFIEvf2EY4XL"
      },
      "outputs": [],
      "source": [
        "! gdown --id 17xk2fS4QevT2NKziTD2puH9w9B8qXpCZ"
      ]
    },
    {
      "cell_type": "code",
      "source": [
        "! unzip /content/uk_used_cars.zip -d /content/uk_used_cars"
      ],
      "metadata": {
        "id": "jul4cO06ZXb2"
      },
      "execution_count": null,
      "outputs": []
    },
    {
      "cell_type": "code",
      "source": [
        "import pandas as pd"
      ],
      "metadata": {
        "id": "d2WyPk6FaIuw"
      },
      "execution_count": null,
      "outputs": []
    },
    {
      "cell_type": "code",
      "source": [
        "df = pd.read_csv('/content/uk_used_cars/bmw.csv')"
      ],
      "metadata": {
        "id": "oviPaOKqaXKk"
      },
      "execution_count": null,
      "outputs": []
    },
    {
      "cell_type": "code",
      "source": [
        "df.head()"
      ],
      "metadata": {
        "id": "-j-_sTdDaefm"
      },
      "execution_count": null,
      "outputs": []
    },
    {
      "cell_type": "code",
      "source": [
        "len(df)"
      ],
      "metadata": {
        "id": "rnZBqBdUafzG"
      },
      "execution_count": null,
      "outputs": []
    },
    {
      "cell_type": "markdown",
      "source": [
        "# Обучающая и тестовая выборка (train and test)"
      ],
      "metadata": {
        "id": "1rz5JK4damMT"
      }
    },
    {
      "cell_type": "code",
      "source": [
        "from sklearn.model_selection import train_test_split"
      ],
      "metadata": {
        "id": "2BCGQP48biNh"
      },
      "execution_count": null,
      "outputs": []
    },
    {
      "cell_type": "code",
      "source": [
        "train, test = train_test_split(df)"
      ],
      "metadata": {
        "id": "gbSHNTiccgC4"
      },
      "execution_count": null,
      "outputs": []
    },
    {
      "cell_type": "code",
      "source": [
        "len(train)"
      ],
      "metadata": {
        "id": "bZPmMH7rcqIT"
      },
      "execution_count": null,
      "outputs": []
    },
    {
      "cell_type": "code",
      "source": [
        "len(test)"
      ],
      "metadata": {
        "id": "P7GSAKmnc6bq"
      },
      "execution_count": null,
      "outputs": []
    },
    {
      "cell_type": "code",
      "source": [
        "len(train) + len(test)"
      ],
      "metadata": {
        "id": "aHsyqur0c8_G"
      },
      "execution_count": null,
      "outputs": []
    },
    {
      "cell_type": "code",
      "source": [
        "len(test)/len(df)"
      ],
      "metadata": {
        "id": "EgmNxJTbdEVB"
      },
      "execution_count": null,
      "outputs": []
    },
    {
      "cell_type": "code",
      "source": [
        "train, test = train_test_split(df, train_size=0.7)"
      ],
      "metadata": {
        "id": "569KUjB_dNQQ"
      },
      "execution_count": null,
      "outputs": []
    },
    {
      "cell_type": "code",
      "source": [
        "len(train)"
      ],
      "metadata": {
        "id": "wj5AG-24dbI6"
      },
      "execution_count": null,
      "outputs": []
    },
    {
      "cell_type": "code",
      "source": [
        "len(test)/len(df)"
      ],
      "metadata": {
        "id": "I-xceeuodcxz"
      },
      "execution_count": null,
      "outputs": []
    },
    {
      "cell_type": "code",
      "source": [
        "train, test = train_test_split(df)"
      ],
      "metadata": {
        "id": "5EibJgWRdeQe"
      },
      "execution_count": null,
      "outputs": []
    },
    {
      "cell_type": "code",
      "source": [
        "len(test)/len(df)"
      ],
      "metadata": {
        "id": "XNmLKd_ydi5j"
      },
      "execution_count": null,
      "outputs": []
    },
    {
      "cell_type": "code",
      "source": [
        "train, test = train_test_split(df,random_state=42)"
      ],
      "metadata": {
        "id": "EiLLKC_Ndotl"
      },
      "execution_count": null,
      "outputs": []
    },
    {
      "cell_type": "code",
      "source": [
        "train"
      ],
      "metadata": {
        "id": "uPtHf61jeXFJ"
      },
      "execution_count": null,
      "outputs": []
    },
    {
      "cell_type": "markdown",
      "source": [
        "# Анализ данных"
      ],
      "metadata": {
        "id": "f8b3OGu5el2a"
      }
    },
    {
      "cell_type": "code",
      "source": [
        "train.isna().mean()"
      ],
      "metadata": {
        "id": "P1qzKFWWedNi"
      },
      "execution_count": null,
      "outputs": []
    },
    {
      "cell_type": "code",
      "source": [
        "df.isna().mean()"
      ],
      "metadata": {
        "id": "M6x5uhlJe3sZ"
      },
      "execution_count": null,
      "outputs": []
    },
    {
      "cell_type": "code",
      "source": [
        "import matplotlib.pyplot as plt\n",
        "plt.style.use('dark_background')"
      ],
      "metadata": {
        "id": "f-0jDgMsfaPj"
      },
      "execution_count": null,
      "outputs": []
    },
    {
      "cell_type": "code",
      "source": [
        "train['price'].hist()"
      ],
      "metadata": {
        "id": "gWBxuRO4e_jb"
      },
      "execution_count": null,
      "outputs": []
    },
    {
      "cell_type": "code",
      "source": [
        "train['price'].describe()"
      ],
      "metadata": {
        "id": "uOgDlfFTfZiC"
      },
      "execution_count": null,
      "outputs": []
    },
    {
      "cell_type": "code",
      "source": [
        "train.groupby('year')['price'].agg(['count', 'mean', 'median'])"
      ],
      "metadata": {
        "id": "Bii5UcnrgQN_"
      },
      "execution_count": null,
      "outputs": []
    },
    {
      "cell_type": "code",
      "source": [
        "train.groupby('year')['price'].median().plot()"
      ],
      "metadata": {
        "id": "42xVvwY8hH7n"
      },
      "execution_count": null,
      "outputs": []
    },
    {
      "cell_type": "markdown",
      "source": [
        "# Baseline"
      ],
      "metadata": {
        "id": "nb-QI0s9h6gJ"
      }
    },
    {
      "cell_type": "code",
      "source": [
        "train['price'].describe()"
      ],
      "metadata": {
        "id": "L7qs98J0hsj1"
      },
      "execution_count": null,
      "outputs": []
    },
    {
      "cell_type": "code",
      "source": [
        "train['price'].mean()"
      ],
      "metadata": {
        "id": "aZIgpwADiZ-O"
      },
      "execution_count": null,
      "outputs": []
    },
    {
      "cell_type": "code",
      "source": [
        "train['price_pred_mean'] = train['price'].mean()"
      ],
      "metadata": {
        "id": "CcEHLmh6iiDX"
      },
      "execution_count": null,
      "outputs": []
    },
    {
      "cell_type": "code",
      "source": [
        "train"
      ],
      "metadata": {
        "id": "yvLxNCH6ivZH"
      },
      "execution_count": null,
      "outputs": []
    },
    {
      "cell_type": "code",
      "source": [
        "train['err'] = train['price_pred_mean'] - train['price']"
      ],
      "metadata": {
        "id": "rgOLhYLfixgj"
      },
      "execution_count": null,
      "outputs": []
    },
    {
      "cell_type": "code",
      "source": [
        "train"
      ],
      "metadata": {
        "id": "gw-4r85mjKJD"
      },
      "execution_count": null,
      "outputs": []
    },
    {
      "cell_type": "code",
      "source": [
        "train['err_abs'] = abs(train['err'])"
      ],
      "metadata": {
        "id": "ULiDACC3jW5f"
      },
      "execution_count": null,
      "outputs": []
    },
    {
      "cell_type": "code",
      "source": [
        "train"
      ],
      "metadata": {
        "id": "VPnXtnitj4Ai"
      },
      "execution_count": null,
      "outputs": []
    },
    {
      "cell_type": "code",
      "source": [
        "train['err_abs'].mean()"
      ],
      "metadata": {
        "id": "leyq3ZAHj6ns"
      },
      "execution_count": null,
      "outputs": []
    },
    {
      "cell_type": "code",
      "source": [
        "train['err_abs_pct'] = train['err_abs']/train['price']"
      ],
      "metadata": {
        "id": "tlHTtXZxkCGI"
      },
      "execution_count": null,
      "outputs": []
    },
    {
      "cell_type": "code",
      "source": [
        "train['err_abs_pct'].mean()"
      ],
      "metadata": {
        "id": "QkQZnRnlkXVD"
      },
      "execution_count": null,
      "outputs": []
    },
    {
      "cell_type": "code",
      "source": [
        "train['price_pred_median'] = train['price'].median()"
      ],
      "metadata": {
        "id": "UEm3CMY8kiiJ"
      },
      "execution_count": null,
      "outputs": []
    },
    {
      "cell_type": "code",
      "source": [
        "from sklearn.metrics import mean_absolute_error, mean_absolute_percentage_error"
      ],
      "metadata": {
        "id": "EnwSt0kJkxuy"
      },
      "execution_count": null,
      "outputs": []
    },
    {
      "cell_type": "code",
      "source": [
        "mean_absolute_error(train['price'], train['price_pred_mean'])"
      ],
      "metadata": {
        "id": "BoJPCCYxlHFq"
      },
      "execution_count": null,
      "outputs": []
    },
    {
      "cell_type": "code",
      "source": [
        "mean_absolute_percentage_error(train['price'], train['price_pred_mean'])"
      ],
      "metadata": {
        "id": "7k-kuDK0lXEF"
      },
      "execution_count": null,
      "outputs": []
    },
    {
      "cell_type": "code",
      "source": [
        "mean_absolute_error(train['price'], train['price_pred_median'])"
      ],
      "metadata": {
        "id": "DmluWCJhlcq-"
      },
      "execution_count": null,
      "outputs": []
    },
    {
      "cell_type": "code",
      "source": [
        "mean_absolute_percentage_error(train['price'], train['price_pred_median'])"
      ],
      "metadata": {
        "id": "DDo35pTmlhea"
      },
      "execution_count": null,
      "outputs": []
    },
    {
      "cell_type": "code",
      "source": [
        "test['price_pred_median'] = train['price'].median()"
      ],
      "metadata": {
        "id": "k5aQ4w0Jlk23"
      },
      "execution_count": null,
      "outputs": []
    },
    {
      "cell_type": "code",
      "source": [
        "test"
      ],
      "metadata": {
        "id": "goGylxrymUSz"
      },
      "execution_count": null,
      "outputs": []
    },
    {
      "cell_type": "code",
      "source": [
        "mean_absolute_error(test['price'], test['price_pred_median'])"
      ],
      "metadata": {
        "id": "J2h3F93imaP_"
      },
      "execution_count": null,
      "outputs": []
    },
    {
      "cell_type": "code",
      "source": [
        "mean_absolute_percentage_error(test['price'], test['price_pred_median'])"
      ],
      "metadata": {
        "id": "QOtVdh64maQA"
      },
      "execution_count": null,
      "outputs": []
    },
    {
      "cell_type": "markdown",
      "source": [
        "# Алгоритм на основе года"
      ],
      "metadata": {
        "id": "NZY9kAham8rK"
      }
    },
    {
      "cell_type": "code",
      "source": [
        "train.groupby('year')['price'].agg(['count', 'mean', 'median'])"
      ],
      "metadata": {
        "id": "rZIOgLnDmgbw"
      },
      "execution_count": null,
      "outputs": []
    },
    {
      "cell_type": "code",
      "source": [
        "model_year_mean = train.groupby('year')['price'].mean().reset_index()"
      ],
      "metadata": {
        "id": "N47SoBrRnJD2"
      },
      "execution_count": null,
      "outputs": []
    },
    {
      "cell_type": "code",
      "source": [
        "model_year_mean.columns"
      ],
      "metadata": {
        "id": "pry1CBnvnZsm"
      },
      "execution_count": null,
      "outputs": []
    },
    {
      "cell_type": "code",
      "source": [
        "model_year_mean.columns = ['year', 'price_pred_year_mean']"
      ],
      "metadata": {
        "id": "J1_4ahVen-A4"
      },
      "execution_count": null,
      "outputs": []
    },
    {
      "cell_type": "code",
      "source": [
        "model_year_mean"
      ],
      "metadata": {
        "id": "Vr5rmZ5hodbb"
      },
      "execution_count": null,
      "outputs": []
    },
    {
      "cell_type": "code",
      "source": [
        "train = train.merge(model_year_mean, how='left', on='year')"
      ],
      "metadata": {
        "id": "3r438l7Aoeoq"
      },
      "execution_count": null,
      "outputs": []
    },
    {
      "cell_type": "code",
      "source": [
        "mean_absolute_error(train['price'], train['price_pred_year_mean'])"
      ],
      "metadata": {
        "id": "pRos8EI4pBzu"
      },
      "execution_count": null,
      "outputs": []
    },
    {
      "cell_type": "code",
      "source": [
        "mean_absolute_percentage_error(train['price'], train['price_pred_year_mean'])"
      ],
      "metadata": {
        "id": "2_F3wbrFpBzu"
      },
      "execution_count": null,
      "outputs": []
    },
    {
      "cell_type": "code",
      "source": [
        "test = test.merge(model_year_mean, how='left', on='year')"
      ],
      "metadata": {
        "id": "YWTHy0smpI6y"
      },
      "execution_count": null,
      "outputs": []
    },
    {
      "cell_type": "code",
      "source": [
        "test.isna().mean()"
      ],
      "metadata": {
        "id": "rqO_xUaupZjV"
      },
      "execution_count": null,
      "outputs": []
    },
    {
      "cell_type": "code",
      "source": [
        "mean_absolute_error(test['price'], test['price_pred_year_mean'])"
      ],
      "metadata": {
        "id": "D98_s6Sopnzl"
      },
      "execution_count": null,
      "outputs": []
    },
    {
      "cell_type": "code",
      "source": [
        "mean_absolute_percentage_error(test['price'], test['price_pred_year_mean'])"
      ],
      "metadata": {
        "id": "O7AxYzI7pnzm"
      },
      "execution_count": null,
      "outputs": []
    },
    {
      "cell_type": "markdown",
      "source": [
        "# Медиана по году"
      ],
      "metadata": {
        "id": "QXL309eLqBFU"
      }
    },
    {
      "cell_type": "code",
      "source": [
        "model_year_median = train.groupby('year')['price'].median().reset_index()"
      ],
      "metadata": {
        "id": "J-N84WkFqKOf"
      },
      "execution_count": null,
      "outputs": []
    },
    {
      "cell_type": "code",
      "source": [
        "model_year_median = model_year_median.rename({'price':'price_pred_year_median'}, axis=1)"
      ],
      "metadata": {
        "id": "kZej15zNqKOk"
      },
      "execution_count": null,
      "outputs": []
    },
    {
      "cell_type": "code",
      "source": [
        "model_year_median"
      ],
      "metadata": {
        "id": "gIAodtYrqKOk"
      },
      "execution_count": null,
      "outputs": []
    },
    {
      "cell_type": "code",
      "source": [
        "train = train.merge(model_year_median, how='left', on='year')"
      ],
      "metadata": {
        "id": "5a_npxE2qbTd"
      },
      "execution_count": null,
      "outputs": []
    },
    {
      "cell_type": "code",
      "source": [
        "mean_absolute_error(train['price'], train['price_pred_year_median'])"
      ],
      "metadata": {
        "id": "PJlqMxg_qbTd"
      },
      "execution_count": null,
      "outputs": []
    },
    {
      "cell_type": "code",
      "source": [
        "mean_absolute_percentage_error(train['price'], train['price_pred_year_median'])"
      ],
      "metadata": {
        "id": "TwmNqkZfqbTd"
      },
      "execution_count": null,
      "outputs": []
    },
    {
      "cell_type": "code",
      "source": [
        "test = test.merge(model_year_median, how='left', on='year')"
      ],
      "metadata": {
        "id": "b4vAeAsmroK9"
      },
      "execution_count": null,
      "outputs": []
    },
    {
      "cell_type": "code",
      "source": [
        "test.isna().mean()"
      ],
      "metadata": {
        "id": "mlYJKOe4roK9"
      },
      "execution_count": null,
      "outputs": []
    },
    {
      "cell_type": "code",
      "source": [
        "mean_absolute_error(test['price'], test['price_pred_year_median'])"
      ],
      "metadata": {
        "id": "zHge2pO2roK9"
      },
      "execution_count": null,
      "outputs": []
    },
    {
      "cell_type": "code",
      "source": [
        "mean_absolute_percentage_error(test['price'], test['price_pred_year_median'])"
      ],
      "metadata": {
        "id": "62P02cW9roK9"
      },
      "execution_count": null,
      "outputs": []
    },
    {
      "cell_type": "markdown",
      "source": [
        "# Добавляем еще одну переменную"
      ],
      "metadata": {
        "id": "wDr2QQ17sBlt"
      }
    },
    {
      "cell_type": "code",
      "source": [
        "train"
      ],
      "metadata": {
        "id": "mT54bhcwrzLJ"
      },
      "execution_count": null,
      "outputs": []
    },
    {
      "cell_type": "code",
      "source": [
        "train.groupby('engineSize')['price','year'].agg(['count', 'mean', 'median'])"
      ],
      "metadata": {
        "id": "Nh_phC4zsKrG"
      },
      "execution_count": null,
      "outputs": []
    },
    {
      "cell_type": "code",
      "source": [
        "train.groupby('engineSize')['price'].agg(['count', 'mean', 'median'])"
      ],
      "metadata": {
        "id": "fZDBDn5lsob4"
      },
      "execution_count": null,
      "outputs": []
    },
    {
      "cell_type": "code",
      "source": [
        "def engine_group(x):\n",
        "  if x <= 1.5:\n",
        "    return '<=1.5'\n",
        "  if x <= 2:\n",
        "    return '<=2'\n",
        "  return '>2'"
      ],
      "metadata": {
        "id": "VygnIhuwth7J"
      },
      "execution_count": null,
      "outputs": []
    },
    {
      "cell_type": "code",
      "source": [
        "train['engine_group'] = train['engineSize'].apply(engine_group)"
      ],
      "metadata": {
        "id": "0HejUmnuuBtB"
      },
      "execution_count": null,
      "outputs": []
    },
    {
      "cell_type": "code",
      "source": [
        "train"
      ],
      "metadata": {
        "id": "HG-U2zp2uR7K"
      },
      "execution_count": null,
      "outputs": []
    },
    {
      "cell_type": "code",
      "source": [
        "t = train.groupby('engine_group')['price'].agg(['count', 'mean', 'median'])"
      ],
      "metadata": {
        "id": "3M_04cF7uTh7"
      },
      "execution_count": null,
      "outputs": []
    },
    {
      "cell_type": "code",
      "source": [
        "t['count'].sum()"
      ],
      "metadata": {
        "id": "BClQtYkgubhb"
      },
      "execution_count": null,
      "outputs": []
    },
    {
      "cell_type": "code",
      "source": [
        "train['engine_group2'] = pd.cut(train['engineSize'], [-float('inf'),1.5,2,float('inf')])"
      ],
      "metadata": {
        "id": "R2vvIbq6ukee"
      },
      "execution_count": null,
      "outputs": []
    },
    {
      "cell_type": "code",
      "source": [
        "t"
      ],
      "metadata": {
        "id": "SH1ZugepvO3f"
      },
      "execution_count": null,
      "outputs": []
    },
    {
      "cell_type": "code",
      "source": [
        "train.groupby('engine_group2')['price'].agg(['count', 'mean', 'median'])"
      ],
      "metadata": {
        "id": "JBcC63fAu5Fa"
      },
      "execution_count": null,
      "outputs": []
    },
    {
      "cell_type": "code",
      "source": [
        "model_year_engine_median = train.groupby(['year','engine_group'])['price'].median().reset_index()"
      ],
      "metadata": {
        "id": "Hif__SkmvLql"
      },
      "execution_count": null,
      "outputs": []
    },
    {
      "cell_type": "code",
      "source": [
        "model_year_engine_median"
      ],
      "metadata": {
        "id": "exqZ2CZ_v4bo"
      },
      "execution_count": null,
      "outputs": []
    },
    {
      "cell_type": "code",
      "source": [
        "train.groupby(['year','engine_group'])['price'].agg(['count', 'median'])"
      ],
      "metadata": {
        "id": "UNLrdQyLv6Pl"
      },
      "execution_count": null,
      "outputs": []
    },
    {
      "cell_type": "code",
      "source": [
        "t = train.pivot_table(index='year',columns='engine_group', values='price', aggfunc='median')"
      ],
      "metadata": {
        "id": "Pw_J80Emwbj-"
      },
      "execution_count": null,
      "outputs": []
    },
    {
      "cell_type": "code",
      "source": [
        "import seaborn as sns"
      ],
      "metadata": {
        "id": "Xx54G0exxb0P"
      },
      "execution_count": null,
      "outputs": []
    },
    {
      "cell_type": "code",
      "source": [
        "sns.heatmap(t)"
      ],
      "metadata": {
        "id": "ffHluf0zxmCV"
      },
      "execution_count": null,
      "outputs": []
    },
    {
      "cell_type": "code",
      "source": [
        "model_year_engine_median = model_year_engine_median.rename({'price':'price_pred_year_engine_median'}, axis=1)"
      ],
      "metadata": {
        "id": "f3x1YgGoxp4L"
      },
      "execution_count": null,
      "outputs": []
    },
    {
      "cell_type": "code",
      "source": [
        "train = train.merge(model_year_engine_median, how='left', on=['year', 'engine_group'])"
      ],
      "metadata": {
        "id": "yNMefH3vx_W3"
      },
      "execution_count": null,
      "outputs": []
    },
    {
      "cell_type": "code",
      "source": [
        "mean_absolute_error(train['price'], train['price_pred_year_median'])"
      ],
      "metadata": {
        "id": "BvD6hPzdzDUW"
      },
      "execution_count": null,
      "outputs": []
    },
    {
      "cell_type": "code",
      "source": [
        "mean_absolute_percentage_error(train['price'], train['price_pred_year_median'])"
      ],
      "metadata": {
        "id": "MvcpHiSszDUX"
      },
      "execution_count": null,
      "outputs": []
    },
    {
      "cell_type": "code",
      "source": [
        "mean_absolute_error(train['price'], train['price_pred_year_engine_median'])"
      ],
      "metadata": {
        "id": "k-TTdyg-zFXV"
      },
      "execution_count": null,
      "outputs": []
    },
    {
      "cell_type": "code",
      "source": [
        "mean_absolute_percentage_error(train['price'], train['price_pred_year_engine_median'])"
      ],
      "metadata": {
        "id": "7M5Nf_nRzFXV"
      },
      "execution_count": null,
      "outputs": []
    },
    {
      "cell_type": "code",
      "source": [
        "test['engine_group'] = test['engineSize'].apply(engine_group)"
      ],
      "metadata": {
        "id": "zpyz34v1zJqb"
      },
      "execution_count": null,
      "outputs": []
    },
    {
      "cell_type": "code",
      "source": [
        "test.isna().mean()"
      ],
      "metadata": {
        "id": "o2606L7iwSTx"
      },
      "execution_count": null,
      "outputs": []
    },
    {
      "cell_type": "code",
      "source": [
        "test = test.merge(model_year_engine_median, how='left', on=['year', 'engine_group'])"
      ],
      "metadata": {
        "id": "9KpMMEu3wTyh"
      },
      "execution_count": null,
      "outputs": []
    },
    {
      "cell_type": "code",
      "source": [
        "test.isna().mean()"
      ],
      "metadata": {
        "id": "l4hg8ecFygeP"
      },
      "execution_count": null,
      "outputs": []
    },
    {
      "cell_type": "code",
      "source": [
        "test[test['price_pred_year_engine_median'].isna()]"
      ],
      "metadata": {
        "id": "elE9ZS1qy5rV"
      },
      "execution_count": null,
      "outputs": []
    },
    {
      "cell_type": "code",
      "source": [
        "def error(y_true, y_pred):\n",
        "    print(mean_absolute_error(y_true, y_pred))\n",
        "    print(mean_absolute_percentage_error(y_true, y_pred))"
      ],
      "metadata": {
        "id": "-WCi-lkhzH0-"
      },
      "execution_count": null,
      "outputs": []
    },
    {
      "cell_type": "code",
      "source": [
        "error(train['price'], train['price_pred_year_median'])"
      ],
      "metadata": {
        "id": "W9wh122j7y6z"
      },
      "execution_count": null,
      "outputs": []
    },
    {
      "cell_type": "code",
      "source": [
        "error(test['price'], test['price_pred_year_median'])"
      ],
      "metadata": {
        "id": "J_57xHK50HpP"
      },
      "execution_count": null,
      "outputs": []
    },
    {
      "cell_type": "code",
      "source": [
        "error(train['price'], train['price_pred_year_engine_median'])"
      ],
      "metadata": {
        "id": "mlb-EKrc7vON"
      },
      "execution_count": null,
      "outputs": []
    },
    {
      "cell_type": "code",
      "source": [
        "test_no_nan = test.dropna().copy()"
      ],
      "metadata": {
        "id": "1bmMWa3o8L3a"
      },
      "execution_count": null,
      "outputs": []
    },
    {
      "cell_type": "code",
      "source": [
        "error(test_no_nan['price'], test_no_nan['price_pred_year_engine_median'])"
      ],
      "metadata": {
        "id": "npOGvIPe7-UH"
      },
      "execution_count": null,
      "outputs": []
    },
    {
      "cell_type": "markdown",
      "source": [
        "# Улучшение модели"
      ],
      "metadata": {
        "id": "yLADOh3E8u19"
      }
    },
    {
      "cell_type": "code",
      "source": [
        "train"
      ],
      "metadata": {
        "id": "EnG18sRn8Ctw"
      },
      "execution_count": null,
      "outputs": []
    },
    {
      "cell_type": "code",
      "source": [
        "train.groupby('transmission')['price'].agg(['count', 'mean', 'median'])"
      ],
      "metadata": {
        "id": "acEVTknY81pg"
      },
      "execution_count": null,
      "outputs": []
    },
    {
      "cell_type": "code",
      "source": [
        "len(model_year_engine_median)"
      ],
      "metadata": {
        "id": "FCVgmMX_v_kb"
      },
      "execution_count": null,
      "outputs": []
    },
    {
      "cell_type": "code",
      "source": [
        "model_year_engine_median"
      ],
      "metadata": {
        "id": "oLT0HYjvwYsM"
      },
      "execution_count": null,
      "outputs": []
    },
    {
      "cell_type": "code",
      "source": [
        "train.groupby('year')['price'].agg(['count', 'median'])"
      ],
      "metadata": {
        "id": "bmjSh5Ibwt9B"
      },
      "execution_count": null,
      "outputs": []
    },
    {
      "cell_type": "code",
      "source": [
        "train['year_group'] = pd.cut(train['year'], [0,2010,2012,2014,2016,2018,float('inf')])"
      ],
      "metadata": {
        "id": "o9H2cKACxLY1"
      },
      "execution_count": null,
      "outputs": []
    },
    {
      "cell_type": "code",
      "source": [
        "train.groupby('year_group')['price'].agg(['count', 'median'])"
      ],
      "metadata": {
        "id": "bCHFtN8nx0WU"
      },
      "execution_count": null,
      "outputs": []
    },
    {
      "cell_type": "code",
      "source": [
        "train.groupby(['year_group', 'engine_group'])['price'].agg(['count', 'median'])"
      ],
      "metadata": {
        "id": "jwgQB2mSyJRe"
      },
      "execution_count": null,
      "outputs": []
    },
    {
      "cell_type": "code",
      "source": [
        "model_year_engine_group_median = train.groupby(['year_group', 'engine_group'])['price'].median().reset_index()"
      ],
      "metadata": {
        "id": "0yuZahbdyj5y"
      },
      "execution_count": null,
      "outputs": []
    },
    {
      "cell_type": "code",
      "source": [
        "model_year_engine_group_median"
      ],
      "metadata": {
        "id": "B9WII8Anyzv6"
      },
      "execution_count": null,
      "outputs": []
    },
    {
      "cell_type": "code",
      "source": [
        "model_year_engine_group_median = model_year_engine_group_median.rename({'price':'pred_price_year_engine_group_median'},axis=1)"
      ],
      "metadata": {
        "id": "70O_1F2-zmbr"
      },
      "execution_count": null,
      "outputs": []
    },
    {
      "cell_type": "code",
      "source": [
        "train = train.merge(model_year_engine_group_median, how='left', on=['year_group', 'engine_group'])"
      ],
      "metadata": {
        "id": "2KzI_sXazF2a"
      },
      "execution_count": null,
      "outputs": []
    },
    {
      "cell_type": "code",
      "source": [
        "error(train['price'], train['price_pred_year_engine_median'])"
      ],
      "metadata": {
        "id": "2VI7XtpBzezA"
      },
      "execution_count": null,
      "outputs": []
    },
    {
      "cell_type": "code",
      "source": [
        "error(train['price'], train['pred_price_year_engine_group_median'])"
      ],
      "metadata": {
        "id": "UwIUquR00WH6"
      },
      "execution_count": null,
      "outputs": []
    },
    {
      "cell_type": "code",
      "source": [
        "model_year_engine_trn_group_median = (train.groupby(['year_group', \n",
        "                                                     'engine_group', \n",
        "                                                     'transmission'])\n",
        "                                            ['price'].median().reset_index())"
      ],
      "metadata": {
        "id": "xxT22uYM0Y-5"
      },
      "execution_count": null,
      "outputs": []
    },
    {
      "cell_type": "code",
      "source": [
        "model_year_engine_trn_group_median = model_year_engine_trn_group_median.rename({'price':'pred_price_year_engine_trn_median'}, axis=1)"
      ],
      "metadata": {
        "id": "QX3scuHA1qMG"
      },
      "execution_count": null,
      "outputs": []
    },
    {
      "cell_type": "code",
      "source": [
        "train = train.merge(model_year_engine_trn_group_median,how='left',on=['year_group', 'engine_group', 'transmission'])"
      ],
      "metadata": {
        "id": "XYkmXwmO18N2"
      },
      "execution_count": null,
      "outputs": []
    },
    {
      "cell_type": "code",
      "source": [
        "error(train['price'], train['price_pred_year_engine_median'])"
      ],
      "metadata": {
        "id": "Ci4qwO_P3nJZ"
      },
      "execution_count": null,
      "outputs": []
    },
    {
      "cell_type": "code",
      "source": [
        "error(train['price'], train['pred_price_year_engine_group_median'])"
      ],
      "metadata": {
        "id": "--o45Y0M3nJa"
      },
      "execution_count": null,
      "outputs": []
    },
    {
      "cell_type": "code",
      "source": [
        "error(train['price'], train['pred_price_year_engine_trn_median'])"
      ],
      "metadata": {
        "id": "kKap-unc3orH"
      },
      "execution_count": null,
      "outputs": []
    },
    {
      "cell_type": "code",
      "source": [
        "test['year_group'] = pd.cut(test['year'], [0,2010,2012,2014,2016,2018,float('inf')])"
      ],
      "metadata": {
        "id": "kkVKwtel3tCk"
      },
      "execution_count": null,
      "outputs": []
    },
    {
      "cell_type": "code",
      "source": [
        "test = test.merge(model_year_engine_trn_group_median,how='left',on=['year_group', 'engine_group', 'transmission'])"
      ],
      "metadata": {
        "id": "0HAGVi1Q4KYK"
      },
      "execution_count": null,
      "outputs": []
    },
    {
      "cell_type": "code",
      "source": [
        "test.isna().mean()"
      ],
      "metadata": {
        "id": "Y0fRWvTo4PpF"
      },
      "execution_count": null,
      "outputs": []
    },
    {
      "cell_type": "code",
      "source": [
        "test_no_nan = test.dropna().copy()"
      ],
      "metadata": {
        "id": "5Oyrt1mp4UgT"
      },
      "execution_count": null,
      "outputs": []
    },
    {
      "cell_type": "code",
      "source": [
        "error(train['price'], train['pred_price_year_engine_trn_median'])"
      ],
      "metadata": {
        "id": "i_dm19I_4p1m"
      },
      "execution_count": null,
      "outputs": []
    },
    {
      "cell_type": "code",
      "source": [
        "error(test_no_nan['price'], test_no_nan['pred_price_year_engine_trn_median'])"
      ],
      "metadata": {
        "id": "bqiyGCh34suY"
      },
      "execution_count": null,
      "outputs": []
    },
    {
      "cell_type": "code",
      "source": [
        "error(test_no_nan['price'], test_no_nan['price_pred_year_engine_median'])"
      ],
      "metadata": {
        "id": "EJHgzk_H4vSp"
      },
      "execution_count": null,
      "outputs": []
    }
  ]
}