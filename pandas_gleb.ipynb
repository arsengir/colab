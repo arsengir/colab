{
  "cells": [
    {
      "cell_type": "markdown",
      "metadata": {
        "id": "view-in-github",
        "colab_type": "text"
      },
      "source": [
        "<a href=\"https://colab.research.google.com/github/arsengir/colab/blob/main/pandas_gleb.ipynb\" target=\"_parent\"><img src=\"https://colab.research.google.com/assets/colab-badge.svg\" alt=\"Open In Colab\"/></a>"
      ]
    },
    {
      "cell_type": "markdown",
      "metadata": {
        "id": "_sQ0XA1jzBIq"
      },
      "source": [
        "https://www.kaggle.com/datasets/arashnic/hr-analytics-job-change-of-data-scientists"
      ]
    },
    {
      "cell_type": "markdown",
      "metadata": {
        "id": "8Md5Lni_z1gA"
      },
      "source": [
        "https://drive.google.com/file/d/1ABGqH_mdeCAqYpI3iI-DTkzN9u02txeh/view?usp=drivesdk"
      ]
    },
    {
      "cell_type": "markdown",
      "metadata": {
        "id": "iYMl2uwZz1DD"
      },
      "source": []
    },
    {
      "cell_type": "code",
      "execution_count": null,
      "metadata": {
        "id": "tg-75z5Byv0l"
      },
      "outputs": [],
      "source": [
        "! gdown --id 1ABGqH_mdeCAqYpI3iI-DTkzN9u02txeh"
      ]
    },
    {
      "cell_type": "code",
      "execution_count": null,
      "metadata": {
        "id": "OqNXTXdL2ewK"
      },
      "outputs": [],
      "source": [
        "! unzip /content/hr_analitic.zip"
      ]
    },
    {
      "cell_type": "markdown",
      "metadata": {
        "id": "KLg7-itN3oZL"
      },
      "source": [
        "# Чтение данных"
      ]
    },
    {
      "cell_type": "code",
      "execution_count": null,
      "metadata": {
        "id": "_DTJzgMz20ac"
      },
      "outputs": [],
      "source": [
        "import pandas as pd"
      ]
    },
    {
      "cell_type": "code",
      "execution_count": null,
      "metadata": {
        "id": "PKwLcEyQ28Js"
      },
      "outputs": [],
      "source": [
        "df = pd.read_csv('/content/aug_train.csv')"
      ]
    },
    {
      "cell_type": "code",
      "execution_count": null,
      "metadata": {
        "id": "JUZ1Mh_R3Kgb"
      },
      "outputs": [],
      "source": [
        "df"
      ]
    },
    {
      "cell_type": "markdown",
      "metadata": {
        "id": "YHXOFV2P4A-l"
      },
      "source": [
        "# Основные операции с датафреймом"
      ]
    },
    {
      "cell_type": "code",
      "execution_count": null,
      "metadata": {
        "id": "657Z-MO535UC"
      },
      "outputs": [],
      "source": [
        "df"
      ]
    },
    {
      "cell_type": "code",
      "execution_count": null,
      "metadata": {
        "id": "DOj6RynG45Jq"
      },
      "outputs": [],
      "source": [
        "df.head()"
      ]
    },
    {
      "cell_type": "code",
      "execution_count": null,
      "metadata": {
        "id": "eC9EgezC49B4"
      },
      "outputs": [],
      "source": [
        "df.tail()"
      ]
    },
    {
      "cell_type": "code",
      "execution_count": null,
      "metadata": {
        "id": "LS8zfWKw5EzG"
      },
      "outputs": [],
      "source": [
        "df['city']"
      ]
    },
    {
      "cell_type": "code",
      "execution_count": null,
      "metadata": {
        "id": "8hrdjbvf5Mxm"
      },
      "outputs": [],
      "source": [
        "df[['city']]"
      ]
    },
    {
      "cell_type": "code",
      "execution_count": null,
      "metadata": {
        "id": "zpVDU6c25gO0"
      },
      "outputs": [],
      "source": [
        "df[['city', 'city_development_index']]"
      ]
    },
    {
      "cell_type": "code",
      "execution_count": null,
      "metadata": {
        "id": "hcwVwGlq5xmC"
      },
      "outputs": [],
      "source": [
        "len(df)"
      ]
    },
    {
      "cell_type": "code",
      "execution_count": null,
      "metadata": {
        "id": "5nQARYcC6EZ8"
      },
      "outputs": [],
      "source": [
        "df.drop('city',axis=1)"
      ]
    },
    {
      "cell_type": "code",
      "execution_count": null,
      "metadata": {
        "id": "_mJ_Z7Nv6Tkr"
      },
      "outputs": [],
      "source": [
        "df.columns"
      ]
    },
    {
      "cell_type": "code",
      "execution_count": null,
      "metadata": {
        "id": "yVpKiMKq6s6R"
      },
      "outputs": [],
      "source": [
        "df['new_col1'] = 1"
      ]
    },
    {
      "cell_type": "code",
      "execution_count": null,
      "metadata": {
        "id": "sjkGgRli7fj0"
      },
      "outputs": [],
      "source": [
        "df['new_col2'] = df['city_development_index']/3"
      ]
    },
    {
      "cell_type": "code",
      "execution_count": null,
      "metadata": {
        "id": "lxNqYqve7zbm"
      },
      "outputs": [],
      "source": [
        "df.assign(new_col3=99)"
      ]
    },
    {
      "cell_type": "markdown",
      "metadata": {
        "id": "D5tjUt6d8T0K"
      },
      "source": [
        "# Фильтрация и ворнинги"
      ]
    },
    {
      "cell_type": "code",
      "execution_count": null,
      "metadata": {
        "id": "emH15S4H8aSl"
      },
      "outputs": [],
      "source": [
        "\n",
        "df[df['city'] == 'city_40']"
      ]
    },
    {
      "cell_type": "code",
      "execution_count": null,
      "metadata": {
        "id": "msa_jR7R8vs0"
      },
      "outputs": [],
      "source": [
        "df.query('city==\"city_40\"')"
      ]
    },
    {
      "cell_type": "code",
      "execution_count": null,
      "metadata": {
        "id": "hRkXCOKi9EbO"
      },
      "outputs": [],
      "source": [
        "df[(df['city']=='city_40')&(df['gender']=='Male')]"
      ]
    },
    {
      "cell_type": "code",
      "execution_count": null,
      "metadata": {
        "id": "A59HmAEa9tZb"
      },
      "outputs": [],
      "source": [
        "df.query('city==\"city_40\" and gender==\"Male\"')"
      ]
    },
    {
      "cell_type": "code",
      "execution_count": null,
      "metadata": {
        "id": "adJytVZs-AiE"
      },
      "outputs": [],
      "source": [
        "city_40_female = df[(df['city']=='city_40')&(df['gender']=='Female')]"
      ]
    },
    {
      "cell_type": "code",
      "execution_count": null,
      "metadata": {
        "id": "r8UgXCkQ-q7X"
      },
      "outputs": [],
      "source": [
        "city_40_female"
      ]
    },
    {
      "cell_type": "code",
      "execution_count": null,
      "metadata": {
        "id": "J0_HThIy-vr2"
      },
      "outputs": [],
      "source": [
        "city_40_female['new_col4'] = 56"
      ]
    },
    {
      "cell_type": "code",
      "execution_count": null,
      "metadata": {
        "id": "5gyqsy2d_KnM"
      },
      "outputs": [],
      "source": [
        "city_40_female = df[(df['city']=='city_40')&(df['gender']=='Female')].copy()"
      ]
    },
    {
      "cell_type": "code",
      "execution_count": null,
      "metadata": {
        "id": "jlypqYAq_UOg"
      },
      "outputs": [],
      "source": [
        "city_40_female['new_col4'] = 56"
      ]
    },
    {
      "cell_type": "markdown",
      "metadata": {
        "id": "EwyDi7PgZWba"
      },
      "source": [
        "# Пропуски"
      ]
    },
    {
      "cell_type": "code",
      "execution_count": null,
      "metadata": {
        "id": "ukFZXZ4g_ZIL"
      },
      "outputs": [],
      "source": [
        "df.isna().mean()"
      ]
    },
    {
      "cell_type": "code",
      "execution_count": null,
      "metadata": {
        "id": "Qr-MgBKebGGt"
      },
      "outputs": [],
      "source": [
        "df.isna().mean().sort_values(ascending = False)"
      ]
    },
    {
      "cell_type": "code",
      "execution_count": null,
      "metadata": {
        "id": "hfUYzHo5bqFC"
      },
      "outputs": [],
      "source": [
        "df.info()"
      ]
    },
    {
      "cell_type": "code",
      "execution_count": null,
      "metadata": {
        "id": "C35X0T5Fcm1f"
      },
      "outputs": [],
      "source": [
        "df.dtypes"
      ]
    },
    {
      "cell_type": "markdown",
      "metadata": {
        "id": "iSsN5E3xc3rQ"
      },
      "source": [
        "# Типы переменных"
      ]
    },
    {
      "cell_type": "code",
      "execution_count": null,
      "metadata": {
        "id": "8CBKLUJveHnI"
      },
      "outputs": [],
      "source": [
        "import matplotlib.pyplot as plt\n",
        "plt.style.use('dark_background')"
      ]
    },
    {
      "cell_type": "markdown",
      "metadata": {
        "id": "IPqsAPnteHKi"
      },
      "source": []
    },
    {
      "cell_type": "code",
      "execution_count": null,
      "metadata": {
        "id": "itCgjHzHdANU"
      },
      "outputs": [],
      "source": [
        "df['city_development_index'].hist()"
      ]
    },
    {
      "cell_type": "code",
      "execution_count": null,
      "metadata": {
        "id": "RA0VizDyeGKX"
      },
      "outputs": [],
      "source": [
        "df.describe()"
      ]
    },
    {
      "cell_type": "code",
      "execution_count": null,
      "metadata": {
        "id": "EGM4TxBte0ch"
      },
      "outputs": [],
      "source": [
        "df['gender'].value_counts()"
      ]
    },
    {
      "cell_type": "code",
      "execution_count": null,
      "metadata": {
        "id": "Ml-XBDXYfBx1"
      },
      "outputs": [],
      "source": [
        "df['gender'].value_counts(dropna=False)"
      ]
    },
    {
      "cell_type": "markdown",
      "metadata": {
        "id": "Q2s71XFwfisn"
      },
      "source": [
        "# Фильтрация по квантилю"
      ]
    },
    {
      "cell_type": "code",
      "execution_count": null,
      "metadata": {
        "id": "-nNch4H0fYno"
      },
      "outputs": [],
      "source": [
        "q = df['city_development_index'].quantile(0.25)"
      ]
    },
    {
      "cell_type": "code",
      "execution_count": null,
      "metadata": {
        "id": "6oicW5fQgPsb"
      },
      "outputs": [],
      "source": [
        "q"
      ]
    },
    {
      "cell_type": "code",
      "execution_count": null,
      "metadata": {
        "id": "QwHdivjBgfB2"
      },
      "outputs": [],
      "source": [
        "df[df['city_development_index']<q]"
      ]
    },
    {
      "cell_type": "code",
      "execution_count": null,
      "metadata": {
        "id": "68fk-m16g8VQ"
      },
      "outputs": [],
      "source": [
        "len(df[df['city_development_index']<q])/len(df)"
      ]
    },
    {
      "cell_type": "code",
      "execution_count": null,
      "metadata": {
        "id": "cB7_JDqPhPaE"
      },
      "outputs": [],
      "source": [
        "q = df['city_development_index'].quantile(0.01)\n",
        "q"
      ]
    },
    {
      "cell_type": "code",
      "execution_count": null,
      "metadata": {
        "id": "14A2-EiEhxV2"
      },
      "outputs": [],
      "source": [
        "df['city_development_index'].hist()"
      ]
    },
    {
      "cell_type": "code",
      "execution_count": null,
      "metadata": {
        "id": "SdLnbvdOhU7p"
      },
      "outputs": [],
      "source": [
        "df[df['city_development_index']>=q]['city_development_index'].hist()"
      ]
    },
    {
      "cell_type": "code",
      "execution_count": null,
      "metadata": {
        "id": "vdG9TAwxieZz"
      },
      "outputs": [],
      "source": [
        "q1 = df['city_development_index'].quantile(0.05)\n",
        "q2 = df['city_development_index'].quantile(0.95)"
      ]
    },
    {
      "cell_type": "code",
      "execution_count": null,
      "metadata": {
        "id": "_5DsjkHoiu2U"
      },
      "outputs": [],
      "source": [
        "df[df['city_development_index'].between(q1,q2)]['city_development_index'].hist()"
      ]
    },
    {
      "cell_type": "markdown",
      "metadata": {
        "id": "7LZNDbiqjSBV"
      },
      "source": [
        "# Сводники"
      ]
    },
    {
      "cell_type": "code",
      "execution_count": null,
      "metadata": {
        "id": "Kkqv5L7HjXVt"
      },
      "outputs": [],
      "source": [
        "df"
      ]
    },
    {
      "cell_type": "code",
      "execution_count": null,
      "metadata": {
        "id": "9BOg2yKljdQ3"
      },
      "outputs": [],
      "source": [
        "df['target'].mean()"
      ]
    },
    {
      "cell_type": "code",
      "execution_count": null,
      "metadata": {
        "id": "ej4MyAXGjpcw"
      },
      "outputs": [],
      "source": [
        "df.groupby('gender')['target'].mean()"
      ]
    },
    {
      "cell_type": "code",
      "execution_count": null,
      "metadata": {
        "id": "Li5K41FokQPW"
      },
      "outputs": [],
      "source": [
        "df.groupby('gender')['target'].agg(['count', 'mean'])"
      ]
    },
    {
      "cell_type": "code",
      "execution_count": null,
      "metadata": {
        "id": "aS82yh_KktqG"
      },
      "outputs": [],
      "source": [
        "t = df.groupby('gender')['target'].agg(['count', 'mean'])"
      ]
    },
    {
      "cell_type": "code",
      "execution_count": null,
      "metadata": {
        "id": "MvX-rrcklDAS"
      },
      "outputs": [],
      "source": [
        "t['count'].sum()"
      ]
    },
    {
      "cell_type": "code",
      "execution_count": null,
      "metadata": {
        "id": "h6q7AsG3lKLH"
      },
      "outputs": [],
      "source": [
        "t = df.groupby('gender', dropna=False)['target'].agg(['count', 'mean'])\n"
      ]
    },
    {
      "cell_type": "code",
      "execution_count": null,
      "metadata": {
        "id": "XrzARrvdlp29"
      },
      "outputs": [],
      "source": [
        "t"
      ]
    },
    {
      "cell_type": "code",
      "execution_count": null,
      "metadata": {
        "id": "T7oHQb20lZfP"
      },
      "outputs": [],
      "source": [
        "t['count'].sum()"
      ]
    },
    {
      "cell_type": "code",
      "execution_count": null,
      "metadata": {
        "id": "qF0u6gs7lupy"
      },
      "outputs": [],
      "source": [
        "df.groupby('education_level', dropna=False)['target'].agg(['count', 'mean'])\n"
      ]
    },
    {
      "cell_type": "code",
      "execution_count": null,
      "metadata": {
        "id": "MM3X6u19mhQR"
      },
      "outputs": [],
      "source": [
        "df.groupby('education_level', dropna=False)['target'].mean().plot()"
      ]
    },
    {
      "cell_type": "code",
      "execution_count": null,
      "metadata": {
        "id": "bQYClTIBmxPA"
      },
      "outputs": [],
      "source": [
        "df.groupby('education_level', dropna=False)['target'].mean().plot(kind='bar')"
      ]
    },
    {
      "cell_type": "markdown",
      "metadata": {
        "id": "UFsnPmFonFjw"
      },
      "source": [
        "# Сводники для непрерывных переменных"
      ]
    },
    {
      "cell_type": "code",
      "execution_count": null,
      "metadata": {
        "id": "BagPbGqmnAm0"
      },
      "outputs": [],
      "source": [
        "df['city_development_index_cut'] = pd.cut(df['city_development_index'], 5)"
      ]
    },
    {
      "cell_type": "code",
      "execution_count": null,
      "metadata": {
        "id": "p5wef5egoFAV"
      },
      "outputs": [],
      "source": [
        "df.groupby('city_development_index_cut')['target'].agg(['count', 'mean'])"
      ]
    },
    {
      "cell_type": "code",
      "execution_count": null,
      "metadata": {
        "id": "l4JDk2xhoomo"
      },
      "outputs": [],
      "source": [
        "df['city_development_index_cut_q'] = pd.qcut(df['city_development_index'], 5)\n"
      ]
    },
    {
      "cell_type": "code",
      "execution_count": null,
      "metadata": {
        "id": "6rbk0dTjpHdf"
      },
      "outputs": [],
      "source": [
        "df['city_development_index_cut_q'] = pd.qcut(df['city_development_index'], 5, duplicates = 'drop')"
      ]
    },
    {
      "cell_type": "code",
      "execution_count": null,
      "metadata": {
        "id": "zrQpOME_penD"
      },
      "outputs": [],
      "source": [
        "t = df.groupby('city_development_index_cut_q')['target'].agg(['count', 'mean'])"
      ]
    },
    {
      "cell_type": "code",
      "execution_count": null,
      "metadata": {
        "id": "fa31kwIvp-q0"
      },
      "outputs": [],
      "source": [
        "t"
      ]
    },
    {
      "cell_type": "code",
      "execution_count": null,
      "metadata": {
        "id": "LT--5ObrqAaZ"
      },
      "outputs": [],
      "source": [
        "t['count'].sum()"
      ]
    },
    {
      "cell_type": "code",
      "execution_count": null,
      "metadata": {
        "id": "6eaQWlPmqNBt"
      },
      "outputs": [],
      "source": [
        "t['mean'].plot()"
      ]
    },
    {
      "cell_type": "code",
      "execution_count": null,
      "metadata": {
        "id": "d_H7HFsDqoY_"
      },
      "outputs": [],
      "source": [
        "df['city_development_index_cut_custom'] = pd.cut(df['city_development_index'], [-float('inf'),0,0.1,0.2,0.5, float('inf')])"
      ]
    },
    {
      "cell_type": "code",
      "execution_count": null,
      "metadata": {
        "id": "vNGRvq_fsNjq"
      },
      "outputs": [],
      "source": [
        "df.groupby('city_development_index_cut_custom')['target'].agg(['count', 'mean'])"
      ]
    },
    {
      "cell_type": "markdown",
      "metadata": {
        "id": "5gcS57h8Mt88"
      },
      "source": [
        "# Группировка категориальных переменных"
      ]
    },
    {
      "cell_type": "code",
      "execution_count": null,
      "metadata": {
        "id": "4jQimn9gM4aO"
      },
      "outputs": [],
      "source": [
        "df.groupby('education_level', dropna=False)['target'].agg(['count', 'mean'])"
      ]
    },
    {
      "cell_type": "code",
      "execution_count": null,
      "metadata": {
        "id": "5QNDEkK_NlmD"
      },
      "outputs": [],
      "source": [
        "def education_group(x):\n",
        "  if x in ['High School', 'Primary School']:\n",
        "    return 'School'\n",
        "  if x in ['Masters', 'Phd']:\n",
        "    return 'Masters_and_phd'\n",
        "  return x"
      ]
    },
    {
      "cell_type": "code",
      "execution_count": null,
      "metadata": {
        "id": "7VXfW4ZwPPdg"
      },
      "outputs": [],
      "source": [
        "df['new_education_level'] = df['education_level'].apply(education_group)"
      ]
    },
    {
      "cell_type": "code",
      "execution_count": null,
      "metadata": {
        "id": "fhZaAbBDPrqF"
      },
      "outputs": [],
      "source": [
        "df.groupby('new_education_level', dropna=False)['target'].agg(['count', 'mean'])"
      ]
    },
    {
      "cell_type": "code",
      "execution_count": null,
      "metadata": {
        "id": "gyiKl2Q2QaN1"
      },
      "outputs": [],
      "source": [
        "df['education_level'].replace('Primary School', 'School').replace('High School','School')"
      ]
    },
    {
      "cell_type": "code",
      "execution_count": null,
      "metadata": {
        "id": "9lW0NYTOQ89H"
      },
      "outputs": [],
      "source": [
        "d = {'Primary School':'School'}"
      ]
    },
    {
      "cell_type": "code",
      "execution_count": null,
      "metadata": {
        "id": "Thww1no4RPSc"
      },
      "outputs": [],
      "source": [
        "df['education_level'].map(d)"
      ]
    },
    {
      "cell_type": "markdown",
      "metadata": {
        "id": "CHNpCRQIRoBg"
      },
      "source": [
        "# Функция с несколькими столбцами"
      ]
    },
    {
      "cell_type": "code",
      "execution_count": null,
      "metadata": {
        "id": "qIRThSDfRm6J"
      },
      "outputs": [],
      "source": [
        "def new_training_hours(row):\n",
        "  if row['education_level'] =='Phd':\n",
        "    return row['training_hours']+1000\n",
        "  return row['training_hours']"
      ]
    },
    {
      "cell_type": "code",
      "execution_count": null,
      "metadata": {
        "id": "CRbbD5cfRfXe"
      },
      "outputs": [],
      "source": [
        "df['new_training_hours'] = df.apply(new_training_hours, axis=1)"
      ]
    },
    {
      "cell_type": "code",
      "execution_count": null,
      "metadata": {
        "id": "9clMStLlTLUo"
      },
      "outputs": [],
      "source": [
        "df[df['education_level'] == 'Phd']"
      ]
    },
    {
      "cell_type": "markdown",
      "metadata": {
        "id": "bitZ__uMTu2W"
      },
      "source": [
        "# Pivot table"
      ]
    },
    {
      "cell_type": "code",
      "execution_count": null,
      "metadata": {
        "id": "t7lQWeQQT1IY"
      },
      "outputs": [],
      "source": [
        "df.groupby('new_education_level', dropna=False)['target'].agg(['count','mean'])"
      ]
    },
    {
      "cell_type": "code",
      "execution_count": null,
      "metadata": {
        "id": "AYzyGSTGU-Du"
      },
      "outputs": [],
      "source": [
        "df['new_education_level'] = df['new_education_level'].fillna('no_info')"
      ]
    },
    {
      "cell_type": "code",
      "execution_count": null,
      "metadata": {
        "id": "QvBaKIjLVitx"
      },
      "outputs": [],
      "source": [
        "t"
      ]
    },
    {
      "cell_type": "code",
      "execution_count": null,
      "metadata": {
        "id": "G75HcflsVlAx"
      },
      "outputs": [],
      "source": [
        "t.reset_index()"
      ]
    },
    {
      "cell_type": "code",
      "execution_count": null,
      "metadata": {
        "id": "-wyBkGkWWNZN"
      },
      "outputs": [],
      "source": [
        "t.columns.values"
      ]
    },
    {
      "cell_type": "code",
      "execution_count": null,
      "metadata": {
        "id": "msvCTW1KXOmX"
      },
      "outputs": [],
      "source": [
        "['_'.join(col).strip() for col in t.columns.values]\n"
      ]
    },
    {
      "cell_type": "code",
      "execution_count": null,
      "metadata": {
        "id": "TU92Gjv-XOHs"
      },
      "outputs": [],
      "source": [
        "t = df.pivot_table(index='new_education_level', values='target', aggfunc=['count', 'mean'])"
      ]
    },
    {
      "cell_type": "code",
      "execution_count": null,
      "metadata": {
        "id": "2OjiWIGTVsiI"
      },
      "outputs": [],
      "source": [
        "t.columns = ['_'.join(col).strip() for col in t.columns.values]"
      ]
    },
    {
      "cell_type": "code",
      "execution_count": null,
      "metadata": {
        "id": "WQlcu-CPWZux"
      },
      "outputs": [],
      "source": [
        "t.reset_index()"
      ]
    },
    {
      "cell_type": "code",
      "execution_count": null,
      "metadata": {
        "id": "cYaJgHTMX5v6"
      },
      "outputs": [],
      "source": [
        "df.pivot_table(index='new_education_level', columns = 'gender',\n",
        "                   values='target', aggfunc=['count', 'mean'])"
      ]
    },
    {
      "cell_type": "code",
      "execution_count": null,
      "metadata": {
        "id": "8QSgAT_OYiKi"
      },
      "outputs": [],
      "source": [
        "df.groupby(['new_education_level', 'gender'], dropna=False)['target'].agg(['count','mean'])"
      ]
    },
    {
      "cell_type": "code",
      "execution_count": null,
      "metadata": {
        "id": "KiphLd1oZTkC"
      },
      "outputs": [],
      "source": [
        "df.groupby(['new_education_level', 'gender'], dropna=False)[['target', 'city_development_index']].agg(['count','mean'])"
      ]
    },
    {
      "cell_type": "code",
      "execution_count": null,
      "metadata": {
        "id": "mKbnok90Zmze"
      },
      "outputs": [],
      "source": [
        "t = (df.groupby(['new_education_level', 'gender'], dropna=False)\n",
        "[['target', 'city_development_index']]\n",
        ".agg(['count','mean'])).reset_index()"
      ]
    },
    {
      "cell_type": "code",
      "execution_count": null,
      "metadata": {
        "id": "OLOJwEmUaCei"
      },
      "outputs": [],
      "source": [
        "t.columns = ['_'.join(col).strip() for col in t.columns]"
      ]
    },
    {
      "cell_type": "code",
      "execution_count": null,
      "metadata": {
        "id": "SJ9bkcyhacHW"
      },
      "outputs": [],
      "source": [
        "t"
      ]
    },
    {
      "cell_type": "markdown",
      "metadata": {
        "id": "8Bli4D5-am1_"
      },
      "source": [
        "# Heatmap"
      ]
    },
    {
      "cell_type": "code",
      "execution_count": null,
      "metadata": {
        "id": "V3o-8o1JbdoK"
      },
      "outputs": [],
      "source": [
        "df['gender'] = df['gender'].fillna('no_info')"
      ]
    },
    {
      "cell_type": "code",
      "execution_count": null,
      "metadata": {
        "id": "G_PgU_cVaqeV"
      },
      "outputs": [],
      "source": [
        "t =df.pivot_table(index='new_education_level', \n",
        "               columns ='gender', values = 'target', aggfunc=['mean'])"
      ]
    },
    {
      "cell_type": "code",
      "source": [
        "t"
      ],
      "metadata": {
        "id": "ibjLZZz0gVW6"
      },
      "execution_count": null,
      "outputs": []
    },
    {
      "cell_type": "code",
      "execution_count": null,
      "metadata": {
        "id": "CUqPjyFvb4-B"
      },
      "outputs": [],
      "source": [
        "import seaborn as sns"
      ]
    },
    {
      "cell_type": "code",
      "execution_count": null,
      "metadata": {
        "id": "V0WLukEycBzG"
      },
      "outputs": [],
      "source": [
        "sns.heatmap(t)"
      ]
    }
  ],
  "metadata": {
    "colab": {
      "provenance": [],
      "authorship_tag": "ABX9TyPZ5hHp7B1ZQTVIRcz8izp9",
      "include_colab_link": true
    },
    "kernelspec": {
      "display_name": "Python 3",
      "name": "python3"
    },
    "language_info": {
      "name": "python"
    }
  },
  "nbformat": 4,
  "nbformat_minor": 0
}