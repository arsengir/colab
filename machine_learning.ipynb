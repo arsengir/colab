{
  "nbformat": 4,
  "nbformat_minor": 0,
  "metadata": {
    "colab": {
      "provenance": [],
      "authorship_tag": "ABX9TyNPpbu7jcs7l2N6V/tR9S2b",
      "include_colab_link": true
    },
    "kernelspec": {
      "name": "python3",
      "display_name": "Python 3"
    },
    "language_info": {
      "name": "python"
    }
  },
  "cells": [
    {
      "cell_type": "markdown",
      "metadata": {
        "id": "view-in-github",
        "colab_type": "text"
      },
      "source": [
        "<a href=\"https://colab.research.google.com/github/arsengir/colab/blob/main/machine_learning.ipynb\" target=\"_parent\"><img src=\"https://colab.research.google.com/assets/colab-badge.svg\" alt=\"Open In Colab\"/></a>"
      ]
    },
    {
      "cell_type": "markdown",
      "source": [
        "# Загрузка данных"
      ],
      "metadata": {
        "id": "lNyIJJhR80We"
      }
    },
    {
      "cell_type": "markdown",
      "source": [
        "https://www.kaggle.com/datasets/abdelrahmankhalil/100000-uk-used-car-data-set"
      ],
      "metadata": {
        "id": "K4OvqalKZGGR"
      }
    },
    {
      "cell_type": "markdown",
      "source": [
        "https://drive.google.com/file/d/17xk2fS4QevT2NKziTD2puH9w9B8qXpCZ/view?usp=sharing"
      ],
      "metadata": {
        "id": "x7LDnedzZD0S"
      }
    },
    {
      "cell_type": "code",
      "execution_count": null,
      "metadata": {
        "id": "uFIEvf2EY4XL"
      },
      "outputs": [],
      "source": [
        "! gdown --id 17xk2fS4QevT2NKziTD2puH9w9B8qXpCZ"
      ]
    },
    {
      "cell_type": "code",
      "source": [
        "! unzip /content/uk_used_cars.zip -d /content/uk_used_cars"
      ],
      "metadata": {
        "id": "jul4cO06ZXb2"
      },
      "execution_count": null,
      "outputs": []
    },
    {
      "cell_type": "code",
      "source": [
        "import pandas as pd"
      ],
      "metadata": {
        "id": "d2WyPk6FaIuw"
      },
      "execution_count": null,
      "outputs": []
    },
    {
      "cell_type": "code",
      "source": [
        "df = pd.read_csv('/content/uk_used_cars/bmw.csv')"
      ],
      "metadata": {
        "id": "oviPaOKqaXKk"
      },
      "execution_count": null,
      "outputs": []
    },
    {
      "cell_type": "code",
      "source": [
        "df.head()"
      ],
      "metadata": {
        "id": "-j-_sTdDaefm"
      },
      "execution_count": null,
      "outputs": []
    },
    {
      "cell_type": "markdown",
      "source": [
        "# Обучающая и тестовая выборка (train and test)"
      ],
      "metadata": {
        "id": "1rz5JK4damMT"
      }
    },
    {
      "cell_type": "code",
      "source": [
        "from sklearn.model_selection import train_test_split"
      ],
      "metadata": {
        "id": "2BCGQP48biNh"
      },
      "execution_count": null,
      "outputs": []
    },
    {
      "cell_type": "code",
      "source": [
        "train, test = train_test_split(df, train_size = 0.6, random_state=42)"
      ],
      "metadata": {
        "id": "EiLLKC_Ndotl"
      },
      "execution_count": null,
      "outputs": []
    },
    {
      "cell_type": "markdown",
      "source": [
        "# Валидационная выборка "
      ],
      "metadata": {
        "id": "TAp5xQGp9NQT"
      }
    },
    {
      "cell_type": "code",
      "source": [
        "len(train)/len(df)"
      ],
      "metadata": {
        "id": "Cxv4ZfVD9KCZ"
      },
      "execution_count": null,
      "outputs": []
    },
    {
      "cell_type": "code",
      "source": [
        "val, test = train_test_split(test, train_size = 0.5, random_state=42)"
      ],
      "metadata": {
        "id": "IBjwqMRy-xGs"
      },
      "execution_count": null,
      "outputs": []
    },
    {
      "cell_type": "code",
      "source": [
        "len(train)/len(df)"
      ],
      "metadata": {
        "id": "E6ch81Xz-9AM"
      },
      "execution_count": null,
      "outputs": []
    },
    {
      "cell_type": "code",
      "source": [
        "len(val)/len(df)"
      ],
      "metadata": {
        "id": "YPPuNwnh_Brq"
      },
      "execution_count": null,
      "outputs": []
    },
    {
      "cell_type": "code",
      "source": [
        "len(test)/len(df)"
      ],
      "metadata": {
        "id": "q4ST7RlA_D0Y"
      },
      "execution_count": null,
      "outputs": []
    },
    {
      "cell_type": "markdown",
      "source": [
        "# Список фичей"
      ],
      "metadata": {
        "id": "mb7vZPQ__fOs"
      }
    },
    {
      "cell_type": "code",
      "source": [
        "train.columns"
      ],
      "metadata": {
        "id": "lvnOyVWM_Fpl"
      },
      "execution_count": null,
      "outputs": []
    },
    {
      "cell_type": "code",
      "source": [
        "train"
      ],
      "metadata": {
        "id": "1AQ3GHPjADW9"
      },
      "execution_count": null,
      "outputs": []
    },
    {
      "cell_type": "code",
      "source": [
        "X = ['model', 'year', 'transmission', 'mileage', 'fuelType', 'tax',\n",
        "       'mpg', 'engineSize']\n",
        "cat_features = ['model', 'transmission', 'fuelType']       \n",
        "y = ['price']"
      ],
      "metadata": {
        "id": "HQPFrRdO_quo"
      },
      "execution_count": null,
      "outputs": []
    },
    {
      "cell_type": "markdown",
      "source": [
        "# Принцип преобразования категориальных фичей"
      ],
      "metadata": {
        "id": "S7KmQrBsBX2S"
      }
    },
    {
      "cell_type": "code",
      "source": [
        "train['transmission']"
      ],
      "metadata": {
        "id": "TdYvtHqECMGc"
      },
      "execution_count": null,
      "outputs": []
    },
    {
      "cell_type": "code",
      "source": [
        "pd.get_dummies(train['transmission'])"
      ],
      "metadata": {
        "id": "hykaQOrJBleR"
      },
      "execution_count": null,
      "outputs": []
    },
    {
      "cell_type": "markdown",
      "source": [
        "https://catboost.ai/en/docs/concepts/algorithm-main-stages_cat-to-numberic"
      ],
      "metadata": {
        "id": "2al6jWMCDZlP"
      }
    },
    {
      "cell_type": "markdown",
      "source": [
        "# Первый запуск Кэтбуста"
      ],
      "metadata": {
        "id": "mqDZc6VQCDqJ"
      }
    },
    {
      "cell_type": "code",
      "source": [
        "! pip install catboost"
      ],
      "metadata": {
        "id": "mhpteGi_DkGn"
      },
      "execution_count": null,
      "outputs": []
    },
    {
      "cell_type": "code",
      "source": [
        "from catboost import CatBoostRegressor"
      ],
      "metadata": {
        "id": "GjzUtZQ5vzm7"
      },
      "execution_count": null,
      "outputs": []
    },
    {
      "cell_type": "code",
      "source": [
        "X = ['year', 'transmission', 'engineSize']\n",
        "cat_features = ['transmission']       \n",
        "y = ['price']"
      ],
      "metadata": {
        "id": "Duv8pishxT1v"
      },
      "execution_count": null,
      "outputs": []
    },
    {
      "cell_type": "markdown",
      "source": [
        "https://catboost.ai/en/docs/concepts/python-reference_utils_eval_metric"
      ],
      "metadata": {
        "id": "j4TifiddyKd-"
      }
    },
    {
      "cell_type": "code",
      "source": [
        "model = CatBoostRegressor(cat_features=cat_features, \n",
        "                          eval_metric='MAPE', \n",
        "                          random_seed=42,\n",
        "                          verbose=100)"
      ],
      "metadata": {
        "id": "2nHc0YHxw8DL"
      },
      "execution_count": null,
      "outputs": []
    },
    {
      "cell_type": "code",
      "source": [
        "model.fit(train[X],train[y], eval_set=(val[X],val[y]))"
      ],
      "metadata": {
        "id": "ikakucaMzCfu"
      },
      "execution_count": null,
      "outputs": []
    },
    {
      "cell_type": "code",
      "source": [
        "model.predict(test[X])"
      ],
      "metadata": {
        "id": "mtO_7ZVhzevk"
      },
      "execution_count": null,
      "outputs": []
    },
    {
      "cell_type": "code",
      "source": [
        "test['price_pred'] = model.predict(test[X])"
      ],
      "metadata": {
        "id": "Ntg85sXU0vua"
      },
      "execution_count": null,
      "outputs": []
    },
    {
      "cell_type": "code",
      "source": [
        "test"
      ],
      "metadata": {
        "id": "5YqSmQSx08EG"
      },
      "execution_count": null,
      "outputs": []
    },
    {
      "cell_type": "code",
      "source": [
        "from sklearn.metrics import mean_absolute_error, mean_absolute_percentage_error"
      ],
      "metadata": {
        "id": "l8H4DWNQ1Not"
      },
      "execution_count": null,
      "outputs": []
    },
    {
      "cell_type": "code",
      "source": [
        "def error(y_true, y_pred):\n",
        "    print(mean_absolute_error(y_true, y_pred))\n",
        "    print(mean_absolute_percentage_error(y_true, y_pred))"
      ],
      "metadata": {
        "id": "DT2bnfin086c"
      },
      "execution_count": null,
      "outputs": []
    },
    {
      "cell_type": "code",
      "source": [
        "error(test['price'],test['price_pred'])"
      ],
      "metadata": {
        "id": "KRPVPnY81Zxh"
      },
      "execution_count": null,
      "outputs": []
    },
    {
      "cell_type": "markdown",
      "source": [
        "# Обучение на всех фичах"
      ],
      "metadata": {
        "id": "kWQ31h-k1e88"
      }
    },
    {
      "cell_type": "code",
      "source": [
        "X = ['model', 'year', 'transmission', 'mileage', 'fuelType', 'tax',\n",
        "       'mpg', 'engineSize']\n",
        "cat_features = ['model', 'transmission', 'fuelType']       \n",
        "y = ['price']"
      ],
      "metadata": {
        "id": "F10oD4yf4q2e"
      },
      "execution_count": null,
      "outputs": []
    },
    {
      "cell_type": "code",
      "source": [
        "parametrs = {'cat_features': cat_features,\n",
        "             'eval_metric': 'MAPE',\n",
        "             'random_seed': 42,\n",
        "             'verbose': 100}"
      ],
      "metadata": {
        "id": "FGEKKdjp44ip"
      },
      "execution_count": null,
      "outputs": []
    },
    {
      "cell_type": "code",
      "source": [
        "model = CatBoostRegressor(**parametrs)"
      ],
      "metadata": {
        "id": "BmAoBU9_4xnk"
      },
      "execution_count": null,
      "outputs": []
    },
    {
      "cell_type": "code",
      "source": [
        "model.fit(train[X], train[y], eval_set=(val[X],val[y]))"
      ],
      "metadata": {
        "id": "6DAHP5h15TPW"
      },
      "execution_count": null,
      "outputs": []
    },
    {
      "cell_type": "code",
      "source": [
        "test['price_pred_all'] = model.predict(test[X])"
      ],
      "metadata": {
        "id": "Zy8bGyyg5s3w"
      },
      "execution_count": null,
      "outputs": []
    },
    {
      "cell_type": "code",
      "source": [
        "error(test['price'],test['price_pred_all'])"
      ],
      "metadata": {
        "id": "f0pDA9lI6Mgj"
      },
      "execution_count": null,
      "outputs": []
    },
    {
      "cell_type": "markdown",
      "source": [
        "# Количество итераций и learning rate"
      ],
      "metadata": {
        "id": "VEQ21R7Y8TyT"
      }
    },
    {
      "cell_type": "code",
      "source": [
        "X = ['year', 'transmission', 'engineSize']\n",
        "cat_features = ['transmission']       \n",
        "y = ['price']"
      ],
      "metadata": {
        "id": "Fdbm_Tod8suM"
      },
      "execution_count": null,
      "outputs": []
    },
    {
      "cell_type": "code",
      "source": [
        "model = CatBoostRegressor(cat_features=cat_features, \n",
        "                          learning_rate=0.03,\n",
        "                          eval_metric='MAPE', \n",
        "                          random_seed=42,\n",
        "                          verbose=100)"
      ],
      "metadata": {
        "id": "zZjhUp288suO"
      },
      "execution_count": null,
      "outputs": []
    },
    {
      "cell_type": "code",
      "source": [
        "model.fit(train[X],train[y], eval_set=(val[X],val[y]))"
      ],
      "metadata": {
        "id": "bmeRfp-U8suO"
      },
      "execution_count": null,
      "outputs": []
    },
    {
      "cell_type": "code",
      "source": [
        "X = ['model', 'year', 'transmission', 'mileage', 'fuelType', 'tax',\n",
        "       'mpg', 'engineSize']\n",
        "cat_features = ['model', 'transmission', 'fuelType']       \n",
        "y = ['price']"
      ],
      "metadata": {
        "id": "f_Ksgi7Q2WtQ"
      },
      "execution_count": null,
      "outputs": []
    },
    {
      "cell_type": "code",
      "source": [
        "parametrs = {'cat_features': cat_features,\n",
        "             'eval_metric': 'MAPE',\n",
        "             'learning_rate': 0.08,\n",
        "             'random_seed': 42,\n",
        "             'verbose': 100}"
      ],
      "metadata": {
        "id": "uQzcFuq62WtQ"
      },
      "execution_count": null,
      "outputs": []
    },
    {
      "cell_type": "code",
      "source": [
        "model = CatBoostRegressor(**parametrs)"
      ],
      "metadata": {
        "id": "Bmv-tOk62WtR"
      },
      "execution_count": null,
      "outputs": []
    },
    {
      "cell_type": "code",
      "source": [
        "model.fit(train[X], train[y], eval_set=(val[X],val[y]))"
      ],
      "metadata": {
        "id": "g0RR895i2WtR"
      },
      "execution_count": null,
      "outputs": []
    },
    {
      "cell_type": "code",
      "source": [
        "X = ['year', 'transmission', 'engineSize']\n",
        "cat_features = ['transmission']       \n",
        "y = ['price']"
      ],
      "metadata": {
        "id": "xnuf0Xjv3HFt"
      },
      "execution_count": null,
      "outputs": []
    },
    {
      "cell_type": "code",
      "source": [
        "model = CatBoostRegressor(cat_features=cat_features, \n",
        "                          early_stopping_rounds=200,\n",
        "                          eval_metric='MAPE', \n",
        "                          random_seed=42,\n",
        "                          verbose=100)"
      ],
      "metadata": {
        "id": "0P0lOzHK3HFt"
      },
      "execution_count": null,
      "outputs": []
    },
    {
      "cell_type": "code",
      "source": [
        "model.fit(train[X],train[y], eval_set=(val[X],val[y]))"
      ],
      "metadata": {
        "id": "CEhaG5QL3HFt"
      },
      "execution_count": null,
      "outputs": []
    },
    {
      "cell_type": "markdown",
      "source": [
        "# Обучаемся на всех данных"
      ],
      "metadata": {
        "id": "8lj0ae6i3d7D"
      }
    },
    {
      "cell_type": "code",
      "source": [
        "train_full = pd.concat([train, val])"
      ],
      "metadata": {
        "id": "ce1NIlEW3T7F"
      },
      "execution_count": null,
      "outputs": []
    },
    {
      "cell_type": "code",
      "source": [
        "X = ['model', 'year', 'transmission', 'mileage', 'fuelType', 'tax',\n",
        "       'mpg', 'engineSize']\n",
        "cat_features = ['model', 'transmission', 'fuelType']       \n",
        "y = ['price']"
      ],
      "metadata": {
        "id": "2Nd259Bb4YDI"
      },
      "execution_count": null,
      "outputs": []
    },
    {
      "cell_type": "code",
      "source": [
        "parametrs = {'cat_features': cat_features,\n",
        "             'eval_metric': 'MAPE',\n",
        "             'learning_rate': 0.08,\n",
        "             'random_seed': 42,\n",
        "             'verbose': 100}"
      ],
      "metadata": {
        "id": "4ia0Fnwn4YDJ"
      },
      "execution_count": null,
      "outputs": []
    },
    {
      "cell_type": "code",
      "source": [
        "model = CatBoostRegressor(**parametrs)"
      ],
      "metadata": {
        "id": "T1XbJjrO4YDJ"
      },
      "execution_count": null,
      "outputs": []
    },
    {
      "cell_type": "code",
      "source": [
        "model.fit(train[X], train[y], eval_set=(val[X],val[y]))"
      ],
      "metadata": {
        "id": "ItqceUcs4YDJ"
      },
      "execution_count": null,
      "outputs": []
    },
    {
      "cell_type": "code",
      "source": [
        "model.best_iteration_"
      ],
      "metadata": {
        "id": "hQYdX_iU4b5v"
      },
      "execution_count": null,
      "outputs": []
    },
    {
      "cell_type": "code",
      "source": [
        "parametrs = {'iterations': model.best_iteration_+1,\n",
        "             'cat_features': cat_features,\n",
        "             'eval_metric': 'MAPE',\n",
        "             'learning_rate': 0.08,\n",
        "             'random_seed': 42,\n",
        "             'verbose': 100}"
      ],
      "metadata": {
        "id": "suq1QN3a4z8Y"
      },
      "execution_count": null,
      "outputs": []
    },
    {
      "cell_type": "code",
      "source": [
        "model = CatBoostRegressor(**parametrs)"
      ],
      "metadata": {
        "id": "JPV_PwLE4z8Y"
      },
      "execution_count": null,
      "outputs": []
    },
    {
      "cell_type": "code",
      "source": [
        "model.fit(train_full[X], train_full[y])"
      ],
      "metadata": {
        "id": "Sq5ubRuL5CUe"
      },
      "execution_count": null,
      "outputs": []
    },
    {
      "cell_type": "code",
      "source": [
        "test['price_pred_all_features_and_data'] = model.predict(test[X])"
      ],
      "metadata": {
        "id": "1_XbjOyM5Rsx"
      },
      "execution_count": null,
      "outputs": []
    },
    {
      "cell_type": "code",
      "source": [
        "error(test['price'], test['price_pred_all_features_and_data'])"
      ],
      "metadata": {
        "id": "3pQNtKDW5csz"
      },
      "execution_count": null,
      "outputs": []
    },
    {
      "cell_type": "markdown",
      "source": [
        "# Метрики регрессии"
      ],
      "metadata": {
        "id": "e3nQB2ne6Pcj"
      }
    },
    {
      "cell_type": "markdown",
      "source": [
        "https://catboost.ai/en/docs/concepts/loss-functions-regression"
      ],
      "metadata": {
        "id": "SWuhMLMa6l4y"
      }
    },
    {
      "cell_type": "markdown",
      "source": [
        "# Меняем функцию оптимизации"
      ],
      "metadata": {
        "id": "AEamu06Y7yTC"
      }
    },
    {
      "cell_type": "code",
      "source": [
        "X = ['model', 'year', 'transmission', 'mileage', 'fuelType', 'tax',\n",
        "       'mpg', 'engineSize']\n",
        "cat_features = ['model', 'transmission', 'fuelType']       \n",
        "y = ['price']"
      ],
      "metadata": {
        "id": "7KfDZzL88D2K"
      },
      "execution_count": null,
      "outputs": []
    },
    {
      "cell_type": "code",
      "source": [
        "parametrs = {'cat_features': cat_features,\n",
        "             'loss_function': 'MAE',\n",
        "             'eval_metric': 'MAPE',\n",
        "             'learning_rate': 0.1,\n",
        "             'random_seed': 42,\n",
        "             'verbose': 100}"
      ],
      "metadata": {
        "id": "QAoJTstu8D2L"
      },
      "execution_count": null,
      "outputs": []
    },
    {
      "cell_type": "code",
      "source": [
        "model = CatBoostRegressor(**parametrs)"
      ],
      "metadata": {
        "id": "-rX6SoCu8D2L"
      },
      "execution_count": null,
      "outputs": []
    },
    {
      "cell_type": "code",
      "source": [
        "model.fit(train[X], train[y], eval_set=(val[X],val[y]))"
      ],
      "metadata": {
        "id": "n2C9jCEH8D2L"
      },
      "execution_count": null,
      "outputs": []
    },
    {
      "cell_type": "code",
      "source": [],
      "metadata": {
        "id": "wxdi7xS-8pEf"
      },
      "execution_count": null,
      "outputs": []
    }
  ]
}